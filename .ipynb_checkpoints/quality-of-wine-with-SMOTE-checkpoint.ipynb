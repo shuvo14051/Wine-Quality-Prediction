{
 "cells": [
  {
   "cell_type": "code",
   "execution_count": null,
   "metadata": {
    "_cell_guid": "87c7b371-53b1-4d4d-bfbd-373d2b84b33a",
    "_uuid": "da5343fb3f6b3942909c94bf8e2add04fd3ff1a3",
    "execution": {
     "iopub.execute_input": "2023-02-09T06:27:57.321143Z",
     "iopub.status.busy": "2023-02-09T06:27:57.320677Z",
     "iopub.status.idle": "2023-02-09T06:27:57.908599Z",
     "shell.execute_reply": "2023-02-09T06:27:57.907906Z",
     "shell.execute_reply.started": "2023-02-09T06:27:57.321096Z"
    }
   },
   "outputs": [],
   "source": [
    "#Importing required packages.\n",
    "import numpy as np\n",
    "import pandas as pd\n",
    "import seaborn as sns\n",
    "import matplotlib.pyplot as plt\n",
    "from sklearn.ensemble import RandomForestClassifier\n",
    "from sklearn.svm import SVC\n",
    "from sklearn.linear_model import SGDClassifier\n",
    "from sklearn.metrics import confusion_matrix, classification_report, accuracy_score\n",
    "from sklearn.preprocessing import StandardScaler, LabelEncoder\n",
    "from sklearn.model_selection import train_test_split, GridSearchCV\n",
    "%matplotlib inline\n",
    "# for high quality images\n",
    "plt.rcParams['figure.dpi'] = 100\n",
    "plt.rcParams['savefig.dpi'] = 100\n",
    "import warnings\n",
    "warnings.filterwarnings('ignore')"
   ]
  },
  {
   "cell_type": "code",
   "execution_count": null,
   "metadata": {
    "_cell_guid": "800f9ff4-79bf-4785-9569-23e1d9b9b03b",
    "_uuid": "07c8409e4eccd80507d9846e8cc70ea42e58cbe6",
    "execution": {
     "iopub.execute_input": "2023-02-09T06:27:57.909622Z",
     "iopub.status.busy": "2023-02-09T06:27:57.909407Z",
     "iopub.status.idle": "2023-02-09T06:27:57.929267Z",
     "shell.execute_reply": "2023-02-09T06:27:57.928495Z",
     "shell.execute_reply.started": "2023-02-09T06:27:57.909579Z"
    }
   },
   "outputs": [],
   "source": [
    "#Loading dataset\n",
    "wine = pd.read_csv('winequality-red.csv')"
   ]
  },
  {
   "cell_type": "code",
   "execution_count": null,
   "metadata": {
    "_cell_guid": "019cbcee-6cb2-478c-922b-ccebe4962769",
    "_uuid": "45ff42953e9082cd55612a4774408cc97a05fb11",
    "execution": {
     "iopub.execute_input": "2023-02-09T06:27:57.930722Z",
     "iopub.status.busy": "2023-02-09T06:27:57.930524Z",
     "iopub.status.idle": "2023-02-09T06:27:57.950612Z",
     "shell.execute_reply": "2023-02-09T06:27:57.950053Z",
     "shell.execute_reply.started": "2023-02-09T06:27:57.930692Z"
    }
   },
   "outputs": [],
   "source": [
    "#Let's check how the data is distributed\n",
    "wine.head()"
   ]
  },
  {
   "cell_type": "code",
   "execution_count": null,
   "metadata": {
    "_cell_guid": "704f4830-5804-436d-9b78-6ca00f5ae510",
    "_uuid": "af141503385967f92d409c5e111e2724b4c9636f",
    "execution": {
     "iopub.execute_input": "2023-02-09T06:27:57.951791Z",
     "iopub.status.busy": "2023-02-09T06:27:57.951572Z",
     "iopub.status.idle": "2023-02-09T06:27:57.959226Z",
     "shell.execute_reply": "2023-02-09T06:27:57.958617Z",
     "shell.execute_reply.started": "2023-02-09T06:27:57.951749Z"
    }
   },
   "outputs": [],
   "source": [
    "#Information about the data columns\n",
    "wine.info()"
   ]
  },
  {
   "cell_type": "code",
   "execution_count": null,
   "metadata": {
    "execution": {
     "iopub.execute_input": "2023-02-09T06:27:57.960381Z",
     "iopub.status.busy": "2023-02-09T06:27:57.960167Z",
     "iopub.status.idle": "2023-02-09T06:27:57.971668Z",
     "shell.execute_reply": "2023-02-09T06:27:57.971039Z",
     "shell.execute_reply.started": "2023-02-09T06:27:57.960332Z"
    }
   },
   "outputs": [],
   "source": [
    "print(wine['quality'].value_counts(normalize=True))"
   ]
  },
  {
   "cell_type": "code",
   "execution_count": null,
   "metadata": {
    "_cell_guid": "f6a9d2eb-e03c-4c8b-8d7f-c0cb735d9ce9",
    "_uuid": "255e8fd04c90eae23164df043ebf16550ecff8fe",
    "execution": {
     "iopub.execute_input": "2023-02-09T06:27:57.972901Z",
     "iopub.status.busy": "2023-02-09T06:27:57.972673Z",
     "iopub.status.idle": "2023-02-09T06:27:58.217068Z",
     "shell.execute_reply": "2023-02-09T06:27:58.216145Z",
     "shell.execute_reply.started": "2023-02-09T06:27:57.972839Z"
    }
   },
   "outputs": [],
   "source": [
    "# Here we see that fixed acidity does not give any \n",
    "# specification to classify the quality.\n",
    "fig = plt.figure(figsize = (10,6))\n",
    "sns.barplot(x = 'quality', y = 'fixed acidity', data = wine)\n",
    "plt.show()"
   ]
  },
  {
   "cell_type": "code",
   "execution_count": null,
   "metadata": {
    "_cell_guid": "7d7355dc-9c09-4e5e-8989-87f903197898",
    "_uuid": "158a576b3fb80cc0978c322663bc5060d8977be0",
    "execution": {
     "iopub.execute_input": "2023-02-09T06:27:58.218894Z",
     "iopub.status.busy": "2023-02-09T06:27:58.218579Z",
     "iopub.status.idle": "2023-02-09T06:27:58.512855Z",
     "shell.execute_reply": "2023-02-09T06:27:58.512075Z",
     "shell.execute_reply.started": "2023-02-09T06:27:58.218832Z"
    }
   },
   "outputs": [],
   "source": [
    "# Here we see that its quite a downing trend in the \n",
    "# volatile acidity as we go higher the quality \n",
    "fig = plt.figure(figsize = (10,6))\n",
    "sns.barplot(x = 'quality', y = 'volatile acidity', data = wine)\n",
    "plt.show()"
   ]
  },
  {
   "cell_type": "code",
   "execution_count": null,
   "metadata": {
    "_cell_guid": "08f073d3-787b-4956-899b-6bd2bdf3cf91",
    "_uuid": "9600cd337636a7860a908fa36ad8084e230829ca",
    "execution": {
     "iopub.execute_input": "2023-02-09T06:27:58.514347Z",
     "iopub.status.busy": "2023-02-09T06:27:58.513882Z",
     "iopub.status.idle": "2023-02-09T06:27:58.745676Z",
     "shell.execute_reply": "2023-02-09T06:27:58.744992Z",
     "shell.execute_reply.started": "2023-02-09T06:27:58.514290Z"
    }
   },
   "outputs": [],
   "source": [
    "# Composition of citric acid go higher as we go \n",
    "# higher in the quality of the wine\n",
    "fig = plt.figure(figsize = (10,6))\n",
    "sns.barplot(x = 'quality', y = 'citric acid', data = wine)\n",
    "plt.show()"
   ]
  },
  {
   "cell_type": "code",
   "execution_count": null,
   "metadata": {
    "_cell_guid": "7dcb76bc-3436-46bd-9d7f-78ccd436517e",
    "_uuid": "6b017770cef61eefb34b4607218c77f933350389",
    "execution": {
     "iopub.execute_input": "2023-02-09T06:27:58.747033Z",
     "iopub.status.busy": "2023-02-09T06:27:58.746720Z",
     "iopub.status.idle": "2023-02-09T06:27:58.984639Z",
     "shell.execute_reply": "2023-02-09T06:27:58.983766Z",
     "shell.execute_reply.started": "2023-02-09T06:27:58.746972Z"
    }
   },
   "outputs": [],
   "source": [
    "# almost same so significant behavious \n",
    "fig = plt.figure(figsize = (10,6))\n",
    "sns.barplot(x = 'quality', y = 'residual sugar', data = wine)\n",
    "plt.show()"
   ]
  },
  {
   "cell_type": "code",
   "execution_count": null,
   "metadata": {
    "_cell_guid": "76463630-67d9-4b07-8076-fba8b49a9921",
    "_uuid": "31fe5d393946e406cbe62d3f4c7951e0b493c454",
    "execution": {
     "iopub.execute_input": "2023-02-09T06:27:58.986228Z",
     "iopub.status.busy": "2023-02-09T06:27:58.985955Z",
     "iopub.status.idle": "2023-02-09T06:27:59.226692Z",
     "shell.execute_reply": "2023-02-09T06:27:59.226077Z",
     "shell.execute_reply.started": "2023-02-09T06:27:58.986185Z"
    }
   },
   "outputs": [],
   "source": [
    "# Composition of chloride also go down as we \n",
    "# go higher in the quality of the wine\n",
    "fig = plt.figure(figsize = (10,6))\n",
    "sns.barplot(x = 'quality', y = 'chlorides', data = wine)\n",
    "plt.show()"
   ]
  },
  {
   "cell_type": "code",
   "execution_count": null,
   "metadata": {
    "_cell_guid": "6abcf7a2-cc7a-4673-a905-6ee0c2cc9e15",
    "_uuid": "6ba9a0dafe8e1042da4dbcaa93706dd46cf3a85c",
    "execution": {
     "iopub.execute_input": "2023-02-09T06:27:59.228102Z",
     "iopub.status.busy": "2023-02-09T06:27:59.227815Z",
     "iopub.status.idle": "2023-02-09T06:27:59.464808Z",
     "shell.execute_reply": "2023-02-09T06:27:59.464338Z",
     "shell.execute_reply.started": "2023-02-09T06:27:59.228048Z"
    }
   },
   "outputs": [],
   "source": [
    "fig = plt.figure(figsize = (10,6))\n",
    "sns.barplot(x = 'quality', y = 'free sulfur dioxide', data = wine)\n",
    "plt.show()"
   ]
  },
  {
   "cell_type": "code",
   "execution_count": null,
   "metadata": {
    "_cell_guid": "9acea621-2b7b-44b7-a0fa-b984dd8c0e93",
    "_uuid": "d99c6e4033da73cdc9d9977ac045372ff9af1c53",
    "execution": {
     "iopub.execute_input": "2023-02-09T06:27:59.465860Z",
     "iopub.status.busy": "2023-02-09T06:27:59.465627Z",
     "iopub.status.idle": "2023-02-09T06:27:59.707561Z",
     "shell.execute_reply": "2023-02-09T06:27:59.706935Z",
     "shell.execute_reply.started": "2023-02-09T06:27:59.465810Z"
    }
   },
   "outputs": [],
   "source": [
    "fig = plt.figure(figsize = (10,6))\n",
    "sns.barplot(x = 'quality', y = 'total sulfur dioxide', data = wine)\n",
    "plt.show()"
   ]
  },
  {
   "cell_type": "code",
   "execution_count": null,
   "metadata": {
    "_cell_guid": "bf0b1aa4-8a6c-4f95-80c3-7554b38a9c96",
    "_uuid": "ae9a7496f5c238ec9bb95729b17960c6e48efe35",
    "execution": {
     "iopub.execute_input": "2023-02-09T06:27:59.708781Z",
     "iopub.status.busy": "2023-02-09T06:27:59.708536Z",
     "iopub.status.idle": "2023-02-09T06:27:59.962934Z",
     "shell.execute_reply": "2023-02-09T06:27:59.962116Z",
     "shell.execute_reply.started": "2023-02-09T06:27:59.708742Z"
    }
   },
   "outputs": [],
   "source": [
    "# Sulphates level goes higher with the quality of wine\n",
    "fig = plt.figure(figsize = (10,6))\n",
    "sns.barplot(x = 'quality', y = 'sulphates', data = wine)"
   ]
  },
  {
   "cell_type": "code",
   "execution_count": null,
   "metadata": {
    "_cell_guid": "04f51b1d-6315-44d3-986c-ed82fc996ad3",
    "_uuid": "81efa0b7799cd731aff98cffeaa28c361a7375a5",
    "execution": {
     "iopub.execute_input": "2023-02-09T06:27:59.964306Z",
     "iopub.status.busy": "2023-02-09T06:27:59.964062Z",
     "iopub.status.idle": "2023-02-09T06:28:00.203901Z",
     "shell.execute_reply": "2023-02-09T06:28:00.203262Z",
     "shell.execute_reply.started": "2023-02-09T06:27:59.964260Z"
    }
   },
   "outputs": [],
   "source": [
    "# Alcohol level also goes higher as te quality of wine increases\n",
    "fig = plt.figure(figsize = (10,6))\n",
    "sns.barplot(x = 'quality', y = 'alcohol', data = wine)"
   ]
  },
  {
   "cell_type": "markdown",
   "metadata": {
    "_cell_guid": "9838ca3d-4b89-4503-9d7e-247cc3a9730b",
    "_uuid": "974be3136a2f13bf26a88b26cbddbf73f5cafda9"
   },
   "source": [
    "## Preprocessing Data for performing Machine learning algorithms"
   ]
  },
  {
   "cell_type": "code",
   "execution_count": null,
   "metadata": {
    "_cell_guid": "33e1c5c0-a65a-4918-8d94-db8e4c521d50",
    "_uuid": "3f082340d1b157391052f0fa20a44aa0105ce987",
    "execution": {
     "iopub.execute_input": "2023-02-09T06:28:00.205088Z",
     "iopub.status.busy": "2023-02-09T06:28:00.204860Z",
     "iopub.status.idle": "2023-02-09T06:28:00.213217Z",
     "shell.execute_reply": "2023-02-09T06:28:00.212156Z",
     "shell.execute_reply.started": "2023-02-09T06:28:00.205026Z"
    }
   },
   "outputs": [],
   "source": [
    "# Making binary classificaion for the response variable.\n",
    "# Dividing wine as good and bad by giving the limit for the quality\n",
    "bins = (2, 6.5, 8)\n",
    "group_names = ['bad', 'good']\n",
    "wine['target'] = pd.cut(wine['quality'], bins = bins, labels = group_names)"
   ]
  },
  {
   "cell_type": "code",
   "execution_count": null,
   "metadata": {
    "execution": {
     "iopub.execute_input": "2023-02-09T06:28:00.214365Z",
     "iopub.status.busy": "2023-02-09T06:28:00.214158Z",
     "iopub.status.idle": "2023-02-09T06:28:00.224181Z",
     "shell.execute_reply": "2023-02-09T06:28:00.223133Z",
     "shell.execute_reply.started": "2023-02-09T06:28:00.214334Z"
    }
   },
   "outputs": [],
   "source": [
    "wine.drop('quality', axis=1, inplace=True)"
   ]
  },
  {
   "cell_type": "code",
   "execution_count": null,
   "metadata": {
    "execution": {
     "iopub.execute_input": "2023-02-09T06:28:00.225906Z",
     "iopub.status.busy": "2023-02-09T06:28:00.225624Z",
     "iopub.status.idle": "2023-02-09T06:28:00.241747Z",
     "shell.execute_reply": "2023-02-09T06:28:00.241037Z",
     "shell.execute_reply.started": "2023-02-09T06:28:00.225850Z"
    }
   },
   "outputs": [],
   "source": [
    "wine['target'].value_counts()"
   ]
  },
  {
   "cell_type": "code",
   "execution_count": null,
   "metadata": {
    "_cell_guid": "21a15507-cc97-4c40-835b-51fd79f7cdd9",
    "_uuid": "87127b3c5e9493a9364b3c63401ddb11a51373a1",
    "execution": {
     "iopub.execute_input": "2023-02-09T06:28:00.242875Z",
     "iopub.status.busy": "2023-02-09T06:28:00.242628Z",
     "iopub.status.idle": "2023-02-09T06:28:00.247681Z",
     "shell.execute_reply": "2023-02-09T06:28:00.246855Z",
     "shell.execute_reply.started": "2023-02-09T06:28:00.242828Z"
    }
   },
   "outputs": [],
   "source": [
    "# Now lets assign a labels to our quality variable\n",
    "label_quality = LabelEncoder()"
   ]
  },
  {
   "cell_type": "code",
   "execution_count": null,
   "metadata": {
    "_cell_guid": "f4c3a886-4b1f-4533-a660-b7ffb66376c2",
    "_uuid": "a592e2b8ece55e8d5928241eb5b9188226a725bf",
    "execution": {
     "iopub.execute_input": "2023-02-09T06:28:00.249017Z",
     "iopub.status.busy": "2023-02-09T06:28:00.248750Z",
     "iopub.status.idle": "2023-02-09T06:28:00.261015Z",
     "shell.execute_reply": "2023-02-09T06:28:00.260346Z",
     "shell.execute_reply.started": "2023-02-09T06:28:00.248954Z"
    }
   },
   "outputs": [],
   "source": [
    "#Bad becomes 0 and good becomes 1 \n",
    "wine['target'] = label_quality.fit_transform(wine['target'])"
   ]
  },
  {
   "cell_type": "code",
   "execution_count": null,
   "metadata": {
    "_cell_guid": "faa36f65-7e80-44d7-a4f8-10e482cec684",
    "_uuid": "65a97517331f835cade698b594a7376ea7778eeb",
    "execution": {
     "iopub.execute_input": "2023-02-09T06:28:00.262260Z",
     "iopub.status.busy": "2023-02-09T06:28:00.261985Z",
     "iopub.status.idle": "2023-02-09T06:28:00.279808Z",
     "shell.execute_reply": "2023-02-09T06:28:00.279063Z",
     "shell.execute_reply.started": "2023-02-09T06:28:00.262212Z"
    }
   },
   "outputs": [],
   "source": [
    "wine['target'].value_counts()"
   ]
  },
  {
   "cell_type": "code",
   "execution_count": null,
   "metadata": {
    "_cell_guid": "ba89712a-ad66-4a92-9214-4e35c3802d59",
    "_uuid": "b893deb26bb309c914de12aadf9ad8437deb8358",
    "execution": {
     "iopub.execute_input": "2023-02-09T06:28:00.280957Z",
     "iopub.status.busy": "2023-02-09T06:28:00.280768Z",
     "iopub.status.idle": "2023-02-09T06:28:00.292297Z",
     "shell.execute_reply": "2023-02-09T06:28:00.291308Z",
     "shell.execute_reply.started": "2023-02-09T06:28:00.280927Z"
    }
   },
   "outputs": [],
   "source": [
    "#Now seperate the dataset as response variable and feature variabes\n",
    "X = wine.drop('target', axis = 1)\n",
    "y = wine['target']"
   ]
  },
  {
   "cell_type": "code",
   "execution_count": null,
   "metadata": {
    "execution": {
     "iopub.execute_input": "2023-02-09T06:28:00.293389Z",
     "iopub.status.busy": "2023-02-09T06:28:00.293187Z",
     "iopub.status.idle": "2023-02-09T06:28:00.400580Z",
     "shell.execute_reply": "2023-02-09T06:28:00.399922Z",
     "shell.execute_reply.started": "2023-02-09T06:28:00.293358Z"
    }
   },
   "outputs": [],
   "source": [
    "sns.countplot(y)\n",
    "plt.show()"
   ]
  },
  {
   "cell_type": "markdown",
   "metadata": {},
   "source": [
    "## SMOTE oversampling"
   ]
  },
  {
   "cell_type": "code",
   "execution_count": null,
   "metadata": {
    "execution": {
     "iopub.execute_input": "2023-02-09T06:28:00.401634Z",
     "iopub.status.busy": "2023-02-09T06:28:00.401435Z",
     "iopub.status.idle": "2023-02-09T06:28:00.404629Z",
     "shell.execute_reply": "2023-02-09T06:28:00.404082Z",
     "shell.execute_reply.started": "2023-02-09T06:28:00.401594Z"
    }
   },
   "outputs": [],
   "source": [
    "from imblearn.over_sampling import SMOTE\n",
    "X, y = SMOTE().fit_resample(X, y)"
   ]
  },
  {
   "cell_type": "code",
   "execution_count": null,
   "metadata": {
    "execution": {
     "iopub.execute_input": "2023-02-09T06:28:00.405679Z",
     "iopub.status.busy": "2023-02-09T06:28:00.405499Z",
     "iopub.status.idle": "2023-02-09T06:28:00.514251Z",
     "shell.execute_reply": "2023-02-09T06:28:00.513628Z",
     "shell.execute_reply.started": "2023-02-09T06:28:00.405644Z"
    }
   },
   "outputs": [],
   "source": [
    "sns.countplot(y)\n",
    "plt.show()"
   ]
  },
  {
   "cell_type": "code",
   "execution_count": null,
   "metadata": {
    "_cell_guid": "d7703d9a-3397-4c42-9b38-6f341cac1cde",
    "_uuid": "bdfc0f6ba146f947f265fd493e8327366fdb5c9a",
    "execution": {
     "iopub.execute_input": "2023-02-09T06:28:00.515383Z",
     "iopub.status.busy": "2023-02-09T06:28:00.515179Z",
     "iopub.status.idle": "2023-02-09T06:28:00.522638Z",
     "shell.execute_reply": "2023-02-09T06:28:00.521687Z",
     "shell.execute_reply.started": "2023-02-09T06:28:00.515345Z"
    }
   },
   "outputs": [],
   "source": [
    "#Train and Test splitting of data \n",
    "X_train, X_test, y_train, y_test = train_test_split(X, y, test_size = 0.2, \n",
    "                                                    stratify=y,\n",
    "                                                    random_state = 42)"
   ]
  },
  {
   "cell_type": "code",
   "execution_count": null,
   "metadata": {
    "_cell_guid": "cef31289-9cec-4ab1-afea-2ff34c36fec1",
    "_uuid": "ca68209bcd596b3cfcaf42837e4a6e49b6c12974",
    "execution": {
     "iopub.execute_input": "2023-02-09T06:28:00.524117Z",
     "iopub.status.busy": "2023-02-09T06:28:00.523882Z",
     "iopub.status.idle": "2023-02-09T06:28:00.531573Z",
     "shell.execute_reply": "2023-02-09T06:28:00.530804Z",
     "shell.execute_reply.started": "2023-02-09T06:28:00.524072Z"
    }
   },
   "outputs": [],
   "source": [
    "#Applying Standard scaling to get optimized result\n",
    "sc = StandardScaler()"
   ]
  },
  {
   "cell_type": "code",
   "execution_count": null,
   "metadata": {
    "_cell_guid": "705b8e8a-a6d3-4e93-8b53-7c677b5b88c4",
    "_uuid": "7878194b0c4935904c68a88a91e18f9bbbabbda7",
    "execution": {
     "iopub.execute_input": "2023-02-09T06:28:00.532690Z",
     "iopub.status.busy": "2023-02-09T06:28:00.532485Z",
     "iopub.status.idle": "2023-02-09T06:28:00.542674Z",
     "shell.execute_reply": "2023-02-09T06:28:00.541725Z",
     "shell.execute_reply.started": "2023-02-09T06:28:00.532657Z"
    }
   },
   "outputs": [],
   "source": [
    "X_train = sc.fit_transform(X_train)\n",
    "X_test = sc.fit_transform(X_test)"
   ]
  },
  {
   "cell_type": "markdown",
   "metadata": {
    "_cell_guid": "eda98e5a-552d-4318-8ae7-1fc45c360be4",
    "_uuid": "9ec5e14c6c24713d6b6e0aaa76ddc5d45886c626"
   },
   "source": [
    "## Support Vector Classifier"
   ]
  },
  {
   "cell_type": "code",
   "execution_count": null,
   "metadata": {
    "_cell_guid": "c09c2885-0ae7-424b-8bfb-8d60eeab8910",
    "_uuid": "432c960068fac4d27d9be14a39ac0fe92933f532",
    "execution": {
     "iopub.execute_input": "2023-02-09T06:28:01.198844Z",
     "iopub.status.busy": "2023-02-09T06:28:01.198536Z",
     "iopub.status.idle": "2023-02-09T06:28:01.228495Z",
     "shell.execute_reply": "2023-02-09T06:28:01.227861Z",
     "shell.execute_reply.started": "2023-02-09T06:28:01.198810Z"
    }
   },
   "outputs": [],
   "source": [
    "svc = SVC()\n",
    "svc.fit(X_train, y_train)\n",
    "pred_svc = svc.predict(X_test)"
   ]
  },
  {
   "cell_type": "code",
   "execution_count": null,
   "metadata": {
    "_cell_guid": "a9bd5ed8-fed7-4d12-8f84-ee02b345f7f3",
    "_uuid": "bc3c13a5596baf43c4c40dbddea247e3ee470d31",
    "execution": {
     "iopub.execute_input": "2023-02-09T06:28:01.229610Z",
     "iopub.status.busy": "2023-02-09T06:28:01.229395Z",
     "iopub.status.idle": "2023-02-09T06:28:01.236094Z",
     "shell.execute_reply": "2023-02-09T06:28:01.235177Z",
     "shell.execute_reply.started": "2023-02-09T06:28:01.229565Z"
    }
   },
   "outputs": [],
   "source": [
    "print(classification_report(y_test, pred_svc))\n",
    "print(\"Prediction accuracy:{:.2f}\".format(accuracy_score(y_test, pred_svc)))"
   ]
  },
  {
   "cell_type": "code",
   "execution_count": null,
   "metadata": {
    "execution": {
     "iopub.execute_input": "2023-02-09T06:28:01.237752Z",
     "iopub.status.busy": "2023-02-09T06:28:01.237470Z",
     "iopub.status.idle": "2023-02-09T06:28:01.386915Z",
     "shell.execute_reply": "2023-02-09T06:28:01.386156Z",
     "shell.execute_reply.started": "2023-02-09T06:28:01.237693Z"
    }
   },
   "outputs": [],
   "source": [
    "# Confusion matrix for the random forest classification\n",
    "cn_svm = confusion_matrix(y_test, pred_svc)\n",
    "sns.heatmap(cn_svm,fmt='g',annot=True)\n",
    "plt.savefig(\"SVM_Confusion_After_SMOTE.png\")\n",
    "plt.show()\n"
   ]
  },
  {
   "cell_type": "markdown",
   "metadata": {
    "_cell_guid": "ea15f1a9-eec6-4d08-a68d-8e3fce6f6b8a",
    "_uuid": "b11f94fdee6a4bfed980793d94ad5c17e33b7d39"
   },
   "source": [
    "## Hyper Parameter Tuning using GridSearchCV"
   ]
  },
  {
   "cell_type": "code",
   "execution_count": null,
   "metadata": {
    "_cell_guid": "31bbdf11-00b0-4120-81f6-b7b5ac537554",
    "_uuid": "0d8fb2a1ae6909c8e44d4b51af8492c194016e4c",
    "execution": {
     "iopub.execute_input": "2023-02-09T06:28:01.388158Z",
     "iopub.status.busy": "2023-02-09T06:28:01.387913Z",
     "iopub.status.idle": "2023-02-09T06:28:01.393634Z",
     "shell.execute_reply": "2023-02-09T06:28:01.393038Z",
     "shell.execute_reply.started": "2023-02-09T06:28:01.388112Z"
    }
   },
   "outputs": [],
   "source": [
    "#Finding best parameters for our SVC model\n",
    "param = {\n",
    "    'C': [0.1,0.8,0.9,1,1.1,1.2,1.3,1.4],\n",
    "    'kernel':['linear', 'rbf'],\n",
    "    'gamma' :[0.1,0.8,0.9,1,1.1,1.2,1.3,1.4]\n",
    "}\n",
    "grid_svc = GridSearchCV(svc, param_grid=param, scoring='accuracy', cv=10)"
   ]
  },
  {
   "cell_type": "code",
   "execution_count": null,
   "metadata": {
    "_cell_guid": "32cbf4d6-254c-4c55-93e2-448244d89ad9",
    "_uuid": "a581f788a26862911480af8e9c2acb4385d6d79d",
    "execution": {
     "iopub.execute_input": "2023-02-09T06:28:01.394806Z",
     "iopub.status.busy": "2023-02-09T06:28:01.394604Z",
     "iopub.status.idle": "2023-02-09T06:28:55.046671Z",
     "shell.execute_reply": "2023-02-09T06:28:55.046120Z",
     "shell.execute_reply.started": "2023-02-09T06:28:01.394761Z"
    }
   },
   "outputs": [],
   "source": [
    "grid_svc.fit(X_train, y_train)"
   ]
  },
  {
   "cell_type": "code",
   "execution_count": null,
   "metadata": {
    "_cell_guid": "55a3e439-c2e3-426e-a1a5-cd653bf8bfa9",
    "_uuid": "0d70efd0eb41271afb4ac50291aa83c6791847a3",
    "execution": {
     "iopub.execute_input": "2023-02-09T06:28:55.047754Z",
     "iopub.status.busy": "2023-02-09T06:28:55.047552Z",
     "iopub.status.idle": "2023-02-09T06:28:55.053111Z",
     "shell.execute_reply": "2023-02-09T06:28:55.052064Z",
     "shell.execute_reply.started": "2023-02-09T06:28:55.047710Z"
    }
   },
   "outputs": [],
   "source": [
    "#Best parameters for our svc model\n",
    "grid_svc.best_params_"
   ]
  },
  {
   "cell_type": "code",
   "execution_count": null,
   "metadata": {
    "_cell_guid": "362ff8bd-7cf3-48af-a93a-499b52dab0d7",
    "_uuid": "dd4a0ac5ef6c17e9e2312a03df0d82ca088c40f2",
    "execution": {
     "iopub.execute_input": "2023-02-09T06:28:55.054255Z",
     "iopub.status.busy": "2023-02-09T06:28:55.054070Z",
     "iopub.status.idle": "2023-02-09T06:28:55.128107Z",
     "shell.execute_reply": "2023-02-09T06:28:55.127424Z",
     "shell.execute_reply.started": "2023-02-09T06:28:55.054220Z"
    }
   },
   "outputs": [],
   "source": [
    "#Let's run our SVC again with the best parameters.\n",
    "svc2 = SVC(C = 1.2, gamma =  0.9, kernel= 'rbf')\n",
    "svc2.fit(X_train, y_train)\n",
    "pred_svc2 = svc2.predict(X_test)\n",
    "print(classification_report(y_test, pred_svc2))\n",
    "print(\"Prediction accuracy:{:.2f}\".format(accuracy_score(y_test, pred_svc2)))"
   ]
  },
  {
   "cell_type": "code",
   "execution_count": null,
   "metadata": {
    "execution": {
     "iopub.execute_input": "2023-02-09T06:28:55.129592Z",
     "iopub.status.busy": "2023-02-09T06:28:55.129219Z",
     "iopub.status.idle": "2023-02-09T06:28:55.279904Z",
     "shell.execute_reply": "2023-02-09T06:28:55.279180Z",
     "shell.execute_reply.started": "2023-02-09T06:28:55.129545Z"
    }
   },
   "outputs": [],
   "source": [
    "cn_svm = confusion_matrix(y_test, pred_svc2)\n",
    "sns.heatmap(cn_svm,fmt='g',annot=True)\n",
    "plt.savefig(\"SVM_GridCV_Confusion_After_SMOTE.png\")\n",
    "plt.show()"
   ]
  },
  {
   "cell_type": "markdown",
   "metadata": {
    "_cell_guid": "d14b50b9-006a-490f-a626-4a2a41b843d6",
    "_uuid": "eca47cbe6600911992c4ebee60c68e3fe37a3c91"
   },
   "source": [
    "### SVC improves result using Grid Search CV"
   ]
  }
 ],
 "metadata": {
  "kernelspec": {
   "display_name": "Python 3 (ipykernel)",
   "language": "python",
   "name": "python3"
  },
  "language_info": {
   "codemirror_mode": {
    "name": "ipython",
    "version": 3
   },
   "file_extension": ".py",
   "mimetype": "text/x-python",
   "name": "python",
   "nbconvert_exporter": "python",
   "pygments_lexer": "ipython3",
   "version": "3.9.6"
  }
 },
 "nbformat": 4,
 "nbformat_minor": 4
}
